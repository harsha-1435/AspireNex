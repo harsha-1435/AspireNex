{
 "cells": [
  {
   "cell_type": "code",
   "execution_count": null,
   "id": "50a9866b",
   "metadata": {},
   "outputs": [],
   "source": [
    "# Importing nessesary libraries\n",
    "import pandas as pd\n",
    "from sklearn.metrics import accuracy_score, classification_report, confusion_matrix\n",
    "from sklearn.ensemble import RandomForestClassifier\n",
    "from sklearn.model_selection import GridSearchCV\n",
    "from sklearn.preprocessing import StandardScaler\n",
    "from sklearn.metrics import accuracy_score, classification_report, confusion_matrix"
   ]
  },
  {
   "cell_type": "code",
   "execution_count": 9,
   "id": "761849d0",
   "metadata": {},
   "outputs": [
    {
     "name": "stdout",
     "output_type": "stream",
     "text": [
      "   PassengerId  Survived  Pclass  \\\n",
      "0          892         0       3   \n",
      "1          893         1       3   \n",
      "2          894         0       2   \n",
      "3          895         0       3   \n",
      "4          896         1       3   \n",
      "\n",
      "                                           Name     Sex   Age  SibSp  Parch  \\\n",
      "0                              Kelly, Mr. James    male  34.5      0      0   \n",
      "1              Wilkes, Mrs. James (Ellen Needs)  female  47.0      1      0   \n",
      "2                     Myles, Mr. Thomas Francis    male  62.0      0      0   \n",
      "3                              Wirz, Mr. Albert    male  27.0      0      0   \n",
      "4  Hirvonen, Mrs. Alexander (Helga E Lindqvist)  female  22.0      1      1   \n",
      "\n",
      "    Ticket     Fare Embarked  family  sex  \n",
      "0   330911   7.8292        Q       0  NaN  \n",
      "1   363272   7.0000        S       1  NaN  \n",
      "2   240276   9.6875        Q       0  NaN  \n",
      "3   315154   8.6625        S       0  NaN  \n",
      "4  3101298  12.2875        S       2  NaN  \n",
      "       PassengerId    Survived      Pclass         Age       SibSp  \\\n",
      "count   418.000000  418.000000  418.000000  418.000000  418.000000   \n",
      "mean   1100.500000    0.363636    2.265550   29.838973    0.447368   \n",
      "std     120.810458    0.481622    0.841838   13.068774    0.896760   \n",
      "min     892.000000    0.000000    1.000000    0.170000    0.000000   \n",
      "25%     996.250000    0.000000    1.000000   22.000000    0.000000   \n",
      "50%    1100.500000    0.000000    3.000000   27.000000    0.000000   \n",
      "75%    1204.750000    1.000000    3.000000   37.000000    1.000000   \n",
      "max    1309.000000    1.000000    3.000000   76.000000    8.000000   \n",
      "\n",
      "            Parch        Fare      family  sex  \n",
      "count  418.000000  418.000000  418.000000  0.0  \n",
      "mean     0.392344   35.576535    0.839713  NaN  \n",
      "std      0.981429   55.850103    1.519072  NaN  \n",
      "min      0.000000    0.000000    0.000000  NaN  \n",
      "25%      0.000000    7.895800    0.000000  NaN  \n",
      "50%      0.000000   14.454200    0.000000  NaN  \n",
      "75%      0.000000   31.471875    1.000000  NaN  \n",
      "max      9.000000  512.329200   10.000000  NaN  \n",
      "<class 'pandas.core.frame.DataFrame'>\n",
      "RangeIndex: 418 entries, 0 to 417\n",
      "Data columns (total 13 columns):\n",
      " #   Column       Non-Null Count  Dtype  \n",
      "---  ------       --------------  -----  \n",
      " 0   PassengerId  418 non-null    int64  \n",
      " 1   Survived     418 non-null    int64  \n",
      " 2   Pclass       418 non-null    int64  \n",
      " 3   Name         418 non-null    object \n",
      " 4   Sex          418 non-null    object \n",
      " 5   Age          418 non-null    float64\n",
      " 6   SibSp        418 non-null    int64  \n",
      " 7   Parch        418 non-null    int64  \n",
      " 8   Ticket       418 non-null    object \n",
      " 9   Fare         418 non-null    float64\n",
      " 10  Embarked     418 non-null    object \n",
      " 11  family       418 non-null    int64  \n",
      " 12  sex          0 non-null      float64\n",
      "dtypes: float64(3), int64(6), object(4)\n",
      "memory usage: 42.6+ KB\n",
      "None\n"
     ]
    }
   ],
   "source": [
    "# Obtaining predictions and evaluating performance\n",
    "\n",
    "best_model = grid_search.best_estimator_\n",
    "y_pred = best_model.predict(X_test)\n",
    "\n",
    "accuracy = accuracy_score(y_test, y_pred)\n",
    "print(f'\\nAccuracy on test set: {accuracy:.2f}')\n",
    "print('Classification Report:')\n",
    "print(classification_report(y_test, y_pred))\n",
    "print('Confusion Matrix:')\n",
    "print(confusion_matrix(y_test, y_pred))\n",
    "\n",
    "from sklearn.model_selection import cross_val_score\n",
    "cv_scores = cross_val_score(best_model, X_train, y_train, cv=5)\n",
    "print(f'\\nCross-validation scores (10 folds): {cv_scores}')\n",
    "print(f'Mean cross-validation score: {cv_scores.mean():.2f}')\n",
    "\n",
    "# Data Exploration\n",
    "df = pd.read_csv('cleaned_titanic.csv')\n",
    "print(df.head())\n",
    "print(df.describe())\n",
    "print(df.info())\n"
   ]
  },
  {
   "cell_type": "code",
   "execution_count": 10,
   "id": "fcc1e867",
   "metadata": {},
   "outputs": [],
   "source": [
    "# Missing Value Imputation\n",
    "df.drop(columns=['sex'], inplace=True)\n",
    "df['Sex'] = df['Sex'].map({'male': 1, 'female': 0})\n",
    "df['Age'] = df['Age'].fillna(df['Age'].median())\n"
   ]
  },
  {
   "cell_type": "code",
   "execution_count": 11,
   "id": "b52c6c9d",
   "metadata": {},
   "outputs": [],
   "source": [
    "# Target and Features selection\n",
    "features = ['Pclass', 'Age', 'SibSp', 'Parch']\n",
    "X = df[features]\n",
    "y = df['Survived']\n"
   ]
  },
  {
   "cell_type": "code",
   "execution_count": 12,
   "id": "34b9a9e3",
   "metadata": {},
   "outputs": [],
   "source": [
    "# Splitting data into Test and Train\n",
    "X_train, X_test, y_train, y_test = train_test_split(X, y, test_size=0.2, random_state=42, stratify=y)"
   ]
  },
  {
   "cell_type": "code",
   "execution_count": 13,
   "id": "a3fee102",
   "metadata": {},
   "outputs": [],
   "source": [
    "scaler = StandardScaler()\n",
    "X_train = scaler.fit_transform(X_train)\n",
    "X_test = scaler.transform(X_test)"
   ]
  },
  {
   "cell_type": "code",
   "execution_count": 15,
   "id": "e9457028",
   "metadata": {},
   "outputs": [
    {
     "name": "stdout",
     "output_type": "stream",
     "text": [
      "Fitting 5 folds for each of 216 candidates, totalling 1080 fits\n",
      "Best parameters found: {'bootstrap': True, 'max_depth': None, 'min_samples_leaf': 1, 'min_samples_split': 2, 'n_estimators': 300}\n",
      "Best cross-validation score: 0.6947535052012664\n"
     ]
    }
   ],
   "source": [
    "# Hyperparameter Tuning , Selction using Grid search CV\n",
    "param_grid = {\n",
    "    'n_estimators': [200, 300, 400, 500],\n",
    "    'max_depth': [None, 15, 20],\n",
    "    'min_samples_split': [2, 5, 10],\n",
    "    'min_samples_leaf': [1, 2, 4],\n",
    "    'bootstrap': [True, False],\n",
    "}\n",
    "\n",
    "model = RandomForestClassifier(random_state=42)\n",
    "grid_search = GridSearchCV(estimator=model, param_grid=param_grid, cv=5, scoring='accuracy', verbose=1, n_jobs=-1)\n",
    "grid_search.fit(X_train, y_train)\n",
    "\n",
    "best_params = grid_search.best_params_\n",
    "best_score = grid_search.best_score_\n",
    "print(\"Best parameters found:\", best_params)\n",
    "print(\"Best cross-validation score:\", best_score)\n"
   ]
  },
  {
   "cell_type": "code",
   "execution_count": 16,
   "id": "35701b21",
   "metadata": {},
   "outputs": [
    {
     "name": "stdout",
     "output_type": "stream",
     "text": [
      "\n",
      "Accuracy on test set: 0.64\n",
      "Classification Report:\n",
      "              precision    recall  f1-score   support\n",
      "\n",
      "           0       0.71      0.74      0.72        53\n",
      "           1       0.52      0.48      0.50        31\n",
      "\n",
      "    accuracy                           0.64        84\n",
      "   macro avg       0.61      0.61      0.61        84\n",
      "weighted avg       0.64      0.64      0.64        84\n",
      "\n",
      "Confusion Matrix:\n",
      "[[39 14]\n",
      " [16 15]]\n",
      "\n",
      "Cross-validation scores (10 folds): [0.62686567 0.74626866 0.6119403  0.74626866 0.74242424]\n",
      "Mean cross-validation score: 0.69\n"
     ]
    }
   ],
   "source": [
    "# Performance evaluation\n",
    "\n",
    "best_model = grid_search.best_estimator_\n",
    "y_pred = best_model.predict(X_test)\n",
    "\n",
    "accuracy = accuracy_score(y_test, y_pred)\n",
    "print(f'\\nAccuracy on test set: {accuracy:.2f}')\n",
    "print('Classification Report:')\n",
    "print(classification_report(y_test, y_pred))\n",
    "print('Confusion Matrix:')\n",
    "print(confusion_matrix(y_test, y_pred))\n",
    "\n",
    "# Cross-validation scores\n",
    "from sklearn.model_selection import cross_val_score\n",
    "cv_scores = cross_val_score(best_model, X_train, y_train, cv=5)\n",
    "print(f'\\nCross-validation scores (10 folds): {cv_scores}')\n",
    "print(f'Mean cross-validation score: {cv_scores.mean():.2f}')\n"
   ]
  },
  {
   "cell_type": "code",
   "execution_count": null,
   "id": "e4a4acd8",
   "metadata": {},
   "outputs": [],
   "source": []
  }
 ],
 "metadata": {
  "kernelspec": {
   "display_name": "Python 3 (ipykernel)",
   "language": "python",
   "name": "python3"
  },
  "language_info": {
   "codemirror_mode": {
    "name": "ipython",
    "version": 3
   },
   "file_extension": ".py",
   "mimetype": "text/x-python",
   "name": "python",
   "nbconvert_exporter": "python",
   "pygments_lexer": "ipython3",
   "version": "3.9.13"
  }
 },
 "nbformat": 4,
 "nbformat_minor": 5
}
